{
  "nbformat": 4,
  "nbformat_minor": 0,
  "metadata": {
    "colab": {
      "name": "Untitled0.ipynb의 사본",
      "provenance": [],
      "authorship_tag": "ABX9TyOO70Kr9Ok6tLx7Ic/O5jQj",
      "include_colab_link": true
    },
    "kernelspec": {
      "name": "python3",
      "display_name": "Python 3"
    },
    "language_info": {
      "name": "python"
    }
  },
  "cells": [
    {
      "cell_type": "markdown",
      "metadata": {
        "id": "view-in-github",
        "colab_type": "text"
      },
      "source": [
        "<a href=\"https://colab.research.google.com/github/kimheeyoung1/bdna/blob/main/Untitled0_ipynb%EC%9D%98_%EC%82%AC%EB%B3%B8.ipynb\" target=\"_parent\"><img src=\"https://colab.research.google.com/assets/colab-badge.svg\" alt=\"Open In Colab\"/></a>"
      ]
    },
    {
      "cell_type": "code",
      "source": [
        "def greet():\n",
        "  print(\"hello world\")"
      ],
      "metadata": {
        "id": "5zM_BlGMoEVA"
      },
      "execution_count": null,
      "outputs": []
    },
    {
      "cell_type": "code",
      "source": [
        "def add(a, b):\n",
        "  c=a+b\n",
        "  return c"
      ],
      "metadata": {
        "id": "P2-ZsO_hob3m"
      },
      "execution_count": null,
      "outputs": []
    },
    {
      "cell_type": "code",
      "source": [
        "add(3,5)"
      ],
      "metadata": {
        "id": "_cWFzcG2xNS9",
        "outputId": "5ed5e369-5f5c-4069-818e-3d5b8ffd0643",
        "colab": {
          "base_uri": "https://localhost:8080/"
        }
      },
      "execution_count": null,
      "outputs": [
        {
          "output_type": "execute_result",
          "data": {
            "text/plain": [
              "8"
            ]
          },
          "metadata": {},
          "execution_count": 27
        }
      ]
    },
    {
      "cell_type": "code",
      "source": [
        "multiply(3,5)"
      ],
      "metadata": {
        "id": "mlf36q-R-eKQ",
        "outputId": "890b5546-cf6b-4ef9-df8b-c1b72aea667a",
        "colab": {
          "base_uri": "https://localhost:8080/"
        }
      },
      "execution_count": null,
      "outputs": [
        {
          "output_type": "execute_result",
          "data": {
            "text/plain": [
              "15"
            ]
          },
          "metadata": {},
          "execution_count": 66
        }
      ]
    },
    {
      "cell_type": "code",
      "source": [
        "def multiply(a, b):\n",
        "  c=a*b\n",
        "  return c"
      ],
      "metadata": {
        "id": "M3qcBrhaorgB"
      },
      "execution_count": null,
      "outputs": []
    },
    {
      "cell_type": "code",
      "source": [
        "def greet2(name):\n",
        "  print('반갑습니다', name)\n",
        "  print(name, '님은 파이썬의 세계로 오셨습니다')\n",
        "\n",
        "  greet2('김희영')"
      ],
      "metadata": {
        "id": "2bA6hu60pHsS"
      },
      "execution_count": null,
      "outputs": []
    },
    {
      "cell_type": "code",
      "source": [
        "def adder(num1, num2):\n",
        "  sum=num1+num2\n",
        "  print('덧셈 결과: ', num1+num2)"
      ],
      "metadata": {
        "id": "759c8qgtpkjN"
      },
      "execution_count": null,
      "outputs": []
    },
    {
      "cell_type": "code",
      "source": [
        "adder(10,5)"
      ],
      "metadata": {
        "id": "epsmq3RaxZIl",
        "outputId": "172ed1d1-665e-4919-daeb-aa414cab610a",
        "colab": {
          "base_uri": "https://localhost:8080/"
        }
      },
      "execution_count": null,
      "outputs": [
        {
          "output_type": "execute_result",
          "data": {
            "text/plain": [
              "15"
            ]
          },
          "metadata": {},
          "execution_count": 28
        }
      ]
    },
    {
      "cell_type": "code",
      "source": [
        "def adder(num1, num2):\n",
        "  sum=num1+num2\n",
        "  return sum"
      ],
      "metadata": {
        "id": "rq7HkoC7rQUF"
      },
      "execution_count": null,
      "outputs": []
    },
    {
      "cell_type": "code",
      "source": [
        "  result = adder(10,5)\n",
        "  print(sum)"
      ],
      "metadata": {
        "id": "bdktaP0ExdUI",
        "outputId": "071f5f14-19ef-4063-fadb-f03983e7852d",
        "colab": {
          "base_uri": "https://localhost:8080/"
        }
      },
      "execution_count": null,
      "outputs": [
        {
          "output_type": "stream",
          "name": "stdout",
          "text": [
            "<built-in function sum>\n"
          ]
        }
      ]
    },
    {
      "cell_type": "code",
      "source": [
        "def adder(num1, num2):\n",
        "  sum=num1+num2\n",
        "  return sum"
      ],
      "metadata": {
        "id": "94bKcsMFsSP8"
      },
      "execution_count": null,
      "outputs": []
    },
    {
      "cell_type": "code",
      "source": [
        "def main():\n",
        "  print(adder(5,3))\n",
        "\n",
        "  main()"
      ],
      "metadata": {
        "id": "DNdKo7nHxkaW"
      },
      "execution_count": null,
      "outputs": []
    },
    {
      "cell_type": "code",
      "source": [
        "max(2,3,4) # 최댓값을 반환한다"
      ],
      "metadata": {
        "id": "dh_Ma9fNtDgG",
        "outputId": "37e5e7f4-1e7d-4e72-b0d3-d01b37f9c95c",
        "colab": {
          "base_uri": "https://localhost:8080/"
        }
      },
      "execution_count": null,
      "outputs": [
        {
          "output_type": "execute_result",
          "data": {
            "text/plain": [
              "4"
            ]
          },
          "metadata": {},
          "execution_count": 18
        }
      ]
    },
    {
      "cell_type": "code",
      "source": [
        "min(2,3,4) # 최솟값을 반환한다"
      ],
      "metadata": {
        "id": "KOvrCVQitNTF",
        "outputId": "e1739cce-1b98-486d-c2de-c9e793bb1976",
        "colab": {
          "base_uri": "https://localhost:8080/"
        }
      },
      "execution_count": null,
      "outputs": [
        {
          "output_type": "execute_result",
          "data": {
            "text/plain": [
              "2"
            ]
          },
          "metadata": {},
          "execution_count": 19
        }
      ]
    },
    {
      "cell_type": "code",
      "source": [
        "round(3.51) # 가장 가까운 정수로 근사한다"
      ],
      "metadata": {
        "id": "xdEv7k5FuuZX",
        "outputId": "c86911dc-caca-4c73-d764-a1ec4a7536c6",
        "colab": {
          "base_uri": "https://localhost:8080/"
        }
      },
      "execution_count": null,
      "outputs": [
        {
          "output_type": "execute_result",
          "data": {
            "text/plain": [
              "4"
            ]
          },
          "metadata": {},
          "execution_count": 20
        }
      ]
    },
    {
      "cell_type": "code",
      "source": [
        "round(3.4) # 가장 가까운 정수로 근사한다"
      ],
      "metadata": {
        "id": "b2xk_CZSu4l4",
        "outputId": "8b10bdb3-45a9-4601-e60a-e1315f991c8a",
        "colab": {
          "base_uri": "https://localhost:8080/"
        }
      },
      "execution_count": null,
      "outputs": [
        {
          "output_type": "execute_result",
          "data": {
            "text/plain": [
              "3"
            ]
          },
          "metadata": {},
          "execution_count": 21
        }
      ]
    },
    {
      "cell_type": "code",
      "source": [
        "abs(-3) # 절댓값을 반환한다"
      ],
      "metadata": {
        "id": "Y9JNe1rZu-P_",
        "outputId": "ca719f76-bab5-4b66-9eb3-ea2eff6b6c91",
        "colab": {
          "base_uri": "https://localhost:8080/"
        }
      },
      "execution_count": null,
      "outputs": [
        {
          "output_type": "execute_result",
          "data": {
            "text/plain": [
              "3"
            ]
          },
          "metadata": {},
          "execution_count": 22
        }
      ]
    },
    {
      "cell_type": "code",
      "source": [
        "pow(2, 3) # 2.0 ** 3.0과 같다"
      ],
      "metadata": {
        "id": "psBP0e7DvGpZ",
        "outputId": "0990acee-f1b7-4372-92b3-48780f64092a",
        "colab": {
          "base_uri": "https://localhost:8080/"
        }
      },
      "execution_count": null,
      "outputs": [
        {
          "output_type": "execute_result",
          "data": {
            "text/plain": [
              "8"
            ]
          },
          "metadata": {},
          "execution_count": 23
        }
      ]
    },
    {
      "cell_type": "code",
      "source": [
        "round(3.1234, 2) # 소수점 둘째 자리까지 근사"
      ],
      "metadata": {
        "id": "G12kvGCCvQ2d",
        "outputId": "4490ab4c-2893-44b4-ee96-ffdda9ed458a",
        "colab": {
          "base_uri": "https://localhost:8080/"
        }
      },
      "execution_count": null,
      "outputs": [
        {
          "output_type": "execute_result",
          "data": {
            "text/plain": [
              "3.12"
            ]
          },
          "metadata": {},
          "execution_count": 24
        }
      ]
    },
    {
      "cell_type": "code",
      "source": [
        "result = eval(input(\"뭐든 넣어요: \"))"
      ],
      "metadata": {
        "id": "3rNMnEVbvruR",
        "outputId": "91f17652-3b52-4f9d-9955-14e504730eef",
        "colab": {
          "base_uri": "https://localhost:8080/"
        }
      },
      "execution_count": null,
      "outputs": [
        {
          "name": "stdout",
          "output_type": "stream",
          "text": [
            "뭐든 넣어요: 2-4*5+3\n"
          ]
        }
      ]
    },
    {
      "cell_type": "code",
      "source": [
        "result"
      ],
      "metadata": {
        "id": "QOO3DySHwCa7",
        "outputId": "9826f6be-51fc-4fc1-a028-8bdc725154a7",
        "colab": {
          "base_uri": "https://localhost:8080/"
        }
      },
      "execution_count": null,
      "outputs": [
        {
          "output_type": "execute_result",
          "data": {
            "text/plain": [
              "-15"
            ]
          },
          "metadata": {},
          "execution_count": 26
        }
      ]
    },
    {
      "cell_type": "code",
      "source": [
        "def greet_three_times():\n",
        "  print('hi')\n",
        "  print('hi')\n",
        "  print('hi')"
      ],
      "metadata": {
        "id": "l4d-ADfcwGni"
      },
      "execution_count": null,
      "outputs": []
    },
    {
      "cell_type": "code",
      "source": [
        "greet_three_times()"
      ],
      "metadata": {
        "id": "HEcbHwa-yE3n",
        "outputId": "d10be37d-88af-4c0f-c0b7-a688f7773d6f",
        "colab": {
          "base_uri": "https://localhost:8080/"
        }
      },
      "execution_count": null,
      "outputs": [
        {
          "output_type": "stream",
          "name": "stdout",
          "text": [
            "hi\n",
            "hi\n",
            "hi\n"
          ]
        }
      ]
    },
    {
      "cell_type": "code",
      "source": [
        "def greet_10(num):\n",
        "  if (num>0):\n",
        "    print('hi')\n",
        "    num=num-1\n",
        "    greet_10(num)"
      ],
      "metadata": {
        "id": "xqHY2l0uyLli"
      },
      "execution_count": null,
      "outputs": []
    },
    {
      "cell_type": "code",
      "source": [
        "greet_10(3)"
      ],
      "metadata": {
        "id": "Jj28U0nHy1rx",
        "outputId": "4dccb9c5-9de8-483a-d084-a7bb93cd0006",
        "colab": {
          "base_uri": "https://localhost:8080/"
        }
      },
      "execution_count": null,
      "outputs": [
        {
          "output_type": "stream",
          "name": "stdout",
          "text": [
            "hi\n",
            "hi\n",
            "hi\n"
          ]
        }
      ]
    },
    {
      "cell_type": "code",
      "source": [
        "import random\n",
        "\n",
        "number_of_trials = 5000000 #상수\n",
        "number0fhits = 0"
      ],
      "metadata": {
        "id": "viWKjijwzC1m"
      },
      "execution_count": null,
      "outputs": []
    },
    {
      "cell_type": "code",
      "source": [
        "for i in range(number_of_trials):\n",
        "  x = random. random() * 2 - 1\n",
        "  y = random. random() * 2 - 1"
      ],
      "metadata": {
        "id": "weUyt6ijzfck"
      },
      "execution_count": null,
      "outputs": []
    },
    {
      "cell_type": "code",
      "source": [
        "if x * x + y * y <= 1:\n",
        "  number0fhits += 1"
      ],
      "metadata": {
        "id": "4OcnOdlaz9BZ"
      },
      "execution_count": null,
      "outputs": []
    },
    {
      "cell_type": "code",
      "source": [
        "pi = 4 * number0fhits / number_of_trials"
      ],
      "metadata": {
        "id": "R2t3Cgbr0Qxz"
      },
      "execution_count": null,
      "outputs": []
    },
    {
      "cell_type": "code",
      "source": [
        "print(\"PI는\", pi, \"입니다.\")"
      ],
      "metadata": {
        "id": "Ms0lrREG0YD-",
        "outputId": "7ce34c1d-9636-4aa4-b85f-88fd6d1b2c96",
        "colab": {
          "base_uri": "https://localhost:8080/"
        }
      },
      "execution_count": null,
      "outputs": [
        {
          "output_type": "stream",
          "name": "stdout",
          "text": [
            "PI는 8e-07 입니다.\n"
          ]
        }
      ]
    },
    {
      "cell_type": "code",
      "source": [
        "import random\n",
        "\n",
        "number_of_trials = 5000000 #상수\n",
        "number0fhits = 0\n",
        "i=0\n",
        "while (i<number_of_trials):\n",
        "  x = random. random() * 2 - 1\n",
        "  y = random. random() * 2 - 1\n",
        "\n",
        "if x * x + y * y <= 1:\n",
        "  number0fhits += 1\n",
        "\n",
        "  i=i+1\n",
        "\n",
        "  pi = 4 * number0fhits / number_of_trials\n"
      ],
      "metadata": {
        "id": "twDE0I_V030C",
        "outputId": "1ee5ce77-e36a-4f4a-9927-60f8ead61e43",
        "colab": {
          "base_uri": "https://localhost:8080/",
          "height": 248
        }
      },
      "execution_count": null,
      "outputs": [
        {
          "output_type": "error",
          "ename": "KeyboardInterrupt",
          "evalue": "ignored",
          "traceback": [
            "\u001b[0;31m---------------------------------------------------------------------------\u001b[0m",
            "\u001b[0;31mKeyboardInterrupt\u001b[0m                         Traceback (most recent call last)",
            "\u001b[0;32m<ipython-input-49-c1ae5201d13b>\u001b[0m in \u001b[0;36m<module>\u001b[0;34m()\u001b[0m\n\u001b[1;32m      5\u001b[0m \u001b[0mi\u001b[0m\u001b[0;34m=\u001b[0m\u001b[0;36m0\u001b[0m\u001b[0;34m\u001b[0m\u001b[0;34m\u001b[0m\u001b[0m\n\u001b[1;32m      6\u001b[0m \u001b[0;32mwhile\u001b[0m \u001b[0;34m(\u001b[0m\u001b[0mi\u001b[0m\u001b[0;34m<\u001b[0m\u001b[0mnumber_of_trials\u001b[0m\u001b[0;34m)\u001b[0m\u001b[0;34m:\u001b[0m\u001b[0;34m\u001b[0m\u001b[0;34m\u001b[0m\u001b[0m\n\u001b[0;32m----> 7\u001b[0;31m   \u001b[0mx\u001b[0m \u001b[0;34m=\u001b[0m \u001b[0mrandom\u001b[0m\u001b[0;34m.\u001b[0m \u001b[0mrandom\u001b[0m\u001b[0;34m(\u001b[0m\u001b[0;34m)\u001b[0m \u001b[0;34m*\u001b[0m \u001b[0;36m2\u001b[0m \u001b[0;34m-\u001b[0m \u001b[0;36m1\u001b[0m\u001b[0;34m\u001b[0m\u001b[0;34m\u001b[0m\u001b[0m\n\u001b[0m\u001b[1;32m      8\u001b[0m   \u001b[0my\u001b[0m \u001b[0;34m=\u001b[0m \u001b[0mrandom\u001b[0m\u001b[0;34m.\u001b[0m \u001b[0mrandom\u001b[0m\u001b[0;34m(\u001b[0m\u001b[0;34m)\u001b[0m \u001b[0;34m*\u001b[0m \u001b[0;36m2\u001b[0m \u001b[0;34m-\u001b[0m \u001b[0;36m1\u001b[0m\u001b[0;34m\u001b[0m\u001b[0;34m\u001b[0m\u001b[0m\n\u001b[1;32m      9\u001b[0m \u001b[0;34m\u001b[0m\u001b[0m\n",
            "\u001b[0;31mKeyboardInterrupt\u001b[0m: "
          ]
        }
      ]
    },
    {
      "cell_type": "code",
      "source": [
        "print(\"PI는\",pi, \"입니다.\")"
      ],
      "metadata": {
        "id": "qEY_kY2I4dCI",
        "outputId": "83894a98-cd44-473e-8edc-9fd32ea00801",
        "colab": {
          "base_uri": "https://localhost:8080/"
        }
      },
      "execution_count": null,
      "outputs": [
        {
          "output_type": "stream",
          "name": "stdout",
          "text": [
            "PI는 8e-07 입니다.\n"
          ]
        }
      ]
    },
    {
      "cell_type": "code",
      "source": [
        "x=3\n",
        "y=2\n",
        "bool(x>y)"
      ],
      "metadata": {
        "id": "FLEbw_Hd4uq_",
        "outputId": "802cb1c0-6b34-478c-8cab-9afad819708f",
        "colab": {
          "base_uri": "https://localhost:8080/"
        }
      },
      "execution_count": null,
      "outputs": [
        {
          "output_type": "execute_result",
          "data": {
            "text/plain": [
              "True"
            ]
          },
          "metadata": {},
          "execution_count": 51
        }
      ]
    },
    {
      "cell_type": "code",
      "source": [
        "x=3\n",
        "y=2\n",
        "bool(x!= y)"
      ],
      "metadata": {
        "id": "557xMKhb40oS",
        "outputId": "5a79ef12-5641-48b5-9912-ca2bb23c07b6",
        "colab": {
          "base_uri": "https://localhost:8080/"
        }
      },
      "execution_count": null,
      "outputs": [
        {
          "output_type": "execute_result",
          "data": {
            "text/plain": [
              "True"
            ]
          },
          "metadata": {},
          "execution_count": 52
        }
      ]
    },
    {
      "cell_type": "code",
      "source": [
        "x=3\n",
        "y=2\n",
        "bool(x==y)"
      ],
      "metadata": {
        "id": "f5K8infg6HjM",
        "outputId": "361c7e0f-ad4d-4710-d758-c0216abdb039",
        "colab": {
          "base_uri": "https://localhost:8080/"
        }
      },
      "execution_count": null,
      "outputs": [
        {
          "output_type": "execute_result",
          "data": {
            "text/plain": [
              "False"
            ]
          },
          "metadata": {},
          "execution_count": 53
        }
      ]
    },
    {
      "cell_type": "code",
      "source": [
        "x=3\n",
        "y=2\n",
        "bool(x <= y)"
      ],
      "metadata": {
        "id": "vkWBs_n_6SEV",
        "outputId": "7f1d658f-3b30-42e2-cc35-9eff22760920",
        "colab": {
          "base_uri": "https://localhost:8080/"
        }
      },
      "execution_count": null,
      "outputs": [
        {
          "output_type": "execute_result",
          "data": {
            "text/plain": [
              "False"
            ]
          },
          "metadata": {},
          "execution_count": 54
        }
      ]
    }
  ]
}