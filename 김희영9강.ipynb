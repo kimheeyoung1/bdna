{
  "nbformat": 4,
  "nbformat_minor": 0,
  "metadata": {
    "colab": {
      "name": "김희영9강.ipynb",
      "provenance": [],
      "authorship_tag": "ABX9TyNSAhhlAbS+tSoe2paEYtiW",
      "include_colab_link": true
    },
    "kernelspec": {
      "name": "python3",
      "display_name": "Python 3"
    },
    "language_info": {
      "name": "python"
    }
  },
  "cells": [
    {
      "cell_type": "markdown",
      "metadata": {
        "id": "view-in-github",
        "colab_type": "text"
      },
      "source": [
        "<a href=\"https://colab.research.google.com/github/kimheeyoung1/bdna/blob/main/%EA%B9%80%ED%9D%AC%EC%98%819%EA%B0%95.ipynb\" target=\"_parent\"><img src=\"https://colab.research.google.com/assets/colab-badge.svg\" alt=\"Open In Colab\"/></a>"
      ]
    },
    {
      "cell_type": "code",
      "source": [
        "pip install mglearn"
      ],
      "metadata": {
        "colab": {
          "base_uri": "https://localhost:8080/"
        },
        "id": "FEyWZY19T7Fu",
        "outputId": "e85b3eec-0bd0-40ca-994f-9390318fd0e3"
      },
      "execution_count": 6,
      "outputs": [
        {
          "output_type": "stream",
          "name": "stdout",
          "text": [
            "Collecting mglearn\n",
            "  Downloading mglearn-0.1.9.tar.gz (540 kB)\n",
            "\u001b[?25l\r\u001b[K     |▋                               | 10 kB 19.7 MB/s eta 0:00:01\r\u001b[K     |█▏                              | 20 kB 25.3 MB/s eta 0:00:01\r\u001b[K     |█▉                              | 30 kB 23.8 MB/s eta 0:00:01\r\u001b[K     |██▍                             | 40 kB 24.1 MB/s eta 0:00:01\r\u001b[K     |███                             | 51 kB 10.0 MB/s eta 0:00:01\r\u001b[K     |███▋                            | 61 kB 11.4 MB/s eta 0:00:01\r\u001b[K     |████▎                           | 71 kB 10.0 MB/s eta 0:00:01\r\u001b[K     |████▉                           | 81 kB 8.5 MB/s eta 0:00:01\r\u001b[K     |█████▌                          | 92 kB 9.2 MB/s eta 0:00:01\r\u001b[K     |██████                          | 102 kB 10.0 MB/s eta 0:00:01\r\u001b[K     |██████▊                         | 112 kB 10.0 MB/s eta 0:00:01\r\u001b[K     |███████▎                        | 122 kB 10.0 MB/s eta 0:00:01\r\u001b[K     |███████▉                        | 133 kB 10.0 MB/s eta 0:00:01\r\u001b[K     |████████▌                       | 143 kB 10.0 MB/s eta 0:00:01\r\u001b[K     |█████████                       | 153 kB 10.0 MB/s eta 0:00:01\r\u001b[K     |█████████▊                      | 163 kB 10.0 MB/s eta 0:00:01\r\u001b[K     |██████████▎                     | 174 kB 10.0 MB/s eta 0:00:01\r\u001b[K     |███████████                     | 184 kB 10.0 MB/s eta 0:00:01\r\u001b[K     |███████████▌                    | 194 kB 10.0 MB/s eta 0:00:01\r\u001b[K     |████████████▏                   | 204 kB 10.0 MB/s eta 0:00:01\r\u001b[K     |████████████▊                   | 215 kB 10.0 MB/s eta 0:00:01\r\u001b[K     |█████████████▍                  | 225 kB 10.0 MB/s eta 0:00:01\r\u001b[K     |██████████████                  | 235 kB 10.0 MB/s eta 0:00:01\r\u001b[K     |██████████████▋                 | 245 kB 10.0 MB/s eta 0:00:01\r\u001b[K     |███████████████▏                | 256 kB 10.0 MB/s eta 0:00:01\r\u001b[K     |███████████████▊                | 266 kB 10.0 MB/s eta 0:00:01\r\u001b[K     |████████████████▍               | 276 kB 10.0 MB/s eta 0:00:01\r\u001b[K     |█████████████████               | 286 kB 10.0 MB/s eta 0:00:01\r\u001b[K     |█████████████████▋              | 296 kB 10.0 MB/s eta 0:00:01\r\u001b[K     |██████████████████▏             | 307 kB 10.0 MB/s eta 0:00:01\r\u001b[K     |██████████████████▉             | 317 kB 10.0 MB/s eta 0:00:01\r\u001b[K     |███████████████████▍            | 327 kB 10.0 MB/s eta 0:00:01\r\u001b[K     |████████████████████            | 337 kB 10.0 MB/s eta 0:00:01\r\u001b[K     |████████████████████▋           | 348 kB 10.0 MB/s eta 0:00:01\r\u001b[K     |█████████████████████▎          | 358 kB 10.0 MB/s eta 0:00:01\r\u001b[K     |█████████████████████▉          | 368 kB 10.0 MB/s eta 0:00:01\r\u001b[K     |██████████████████████▌         | 378 kB 10.0 MB/s eta 0:00:01\r\u001b[K     |███████████████████████         | 389 kB 10.0 MB/s eta 0:00:01\r\u001b[K     |███████████████████████▋        | 399 kB 10.0 MB/s eta 0:00:01\r\u001b[K     |████████████████████████▎       | 409 kB 10.0 MB/s eta 0:00:01\r\u001b[K     |████████████████████████▉       | 419 kB 10.0 MB/s eta 0:00:01\r\u001b[K     |█████████████████████████▌      | 430 kB 10.0 MB/s eta 0:00:01\r\u001b[K     |██████████████████████████      | 440 kB 10.0 MB/s eta 0:00:01\r\u001b[K     |██████████████████████████▊     | 450 kB 10.0 MB/s eta 0:00:01\r\u001b[K     |███████████████████████████▎    | 460 kB 10.0 MB/s eta 0:00:01\r\u001b[K     |████████████████████████████    | 471 kB 10.0 MB/s eta 0:00:01\r\u001b[K     |████████████████████████████▌   | 481 kB 10.0 MB/s eta 0:00:01\r\u001b[K     |█████████████████████████████▏  | 491 kB 10.0 MB/s eta 0:00:01\r\u001b[K     |█████████████████████████████▊  | 501 kB 10.0 MB/s eta 0:00:01\r\u001b[K     |██████████████████████████████▍ | 512 kB 10.0 MB/s eta 0:00:01\r\u001b[K     |███████████████████████████████ | 522 kB 10.0 MB/s eta 0:00:01\r\u001b[K     |███████████████████████████████▌| 532 kB 10.0 MB/s eta 0:00:01\r\u001b[K     |████████████████████████████████| 540 kB 10.0 MB/s \n",
            "\u001b[?25hRequirement already satisfied: numpy in /usr/local/lib/python3.7/dist-packages (from mglearn) (1.21.6)\n",
            "Requirement already satisfied: matplotlib in /usr/local/lib/python3.7/dist-packages (from mglearn) (3.2.2)\n",
            "Requirement already satisfied: scikit-learn in /usr/local/lib/python3.7/dist-packages (from mglearn) (1.0.2)\n",
            "Requirement already satisfied: pandas in /usr/local/lib/python3.7/dist-packages (from mglearn) (1.3.5)\n",
            "Requirement already satisfied: pillow in /usr/local/lib/python3.7/dist-packages (from mglearn) (7.1.2)\n",
            "Requirement already satisfied: cycler in /usr/local/lib/python3.7/dist-packages (from mglearn) (0.11.0)\n",
            "Requirement already satisfied: imageio in /usr/local/lib/python3.7/dist-packages (from mglearn) (2.4.1)\n",
            "Requirement already satisfied: joblib in /usr/local/lib/python3.7/dist-packages (from mglearn) (1.1.0)\n",
            "Requirement already satisfied: kiwisolver>=1.0.1 in /usr/local/lib/python3.7/dist-packages (from matplotlib->mglearn) (1.4.2)\n",
            "Requirement already satisfied: pyparsing!=2.0.4,!=2.1.2,!=2.1.6,>=2.0.1 in /usr/local/lib/python3.7/dist-packages (from matplotlib->mglearn) (3.0.9)\n",
            "Requirement already satisfied: python-dateutil>=2.1 in /usr/local/lib/python3.7/dist-packages (from matplotlib->mglearn) (2.8.2)\n",
            "Requirement already satisfied: typing-extensions in /usr/local/lib/python3.7/dist-packages (from kiwisolver>=1.0.1->matplotlib->mglearn) (4.2.0)\n",
            "Requirement already satisfied: six>=1.5 in /usr/local/lib/python3.7/dist-packages (from python-dateutil>=2.1->matplotlib->mglearn) (1.15.0)\n",
            "Requirement already satisfied: pytz>=2017.3 in /usr/local/lib/python3.7/dist-packages (from pandas->mglearn) (2022.1)\n",
            "Requirement already satisfied: scipy>=1.1.0 in /usr/local/lib/python3.7/dist-packages (from scikit-learn->mglearn) (1.4.1)\n",
            "Requirement already satisfied: threadpoolctl>=2.0.0 in /usr/local/lib/python3.7/dist-packages (from scikit-learn->mglearn) (3.1.0)\n",
            "Building wheels for collected packages: mglearn\n",
            "  Building wheel for mglearn (setup.py) ... \u001b[?25l\u001b[?25hdone\n",
            "  Created wheel for mglearn: filename=mglearn-0.1.9-py2.py3-none-any.whl size=582639 sha256=51e27aef663e008b77528da2702a4be81065b0bf0bb2809fcef51615233c7678\n",
            "  Stored in directory: /root/.cache/pip/wheels/f1/17/e1/1720d6dcd70187b6b6c3750cb3508798f2b1d57c9d3214b08b\n",
            "Successfully built mglearn\n",
            "Installing collected packages: mglearn\n",
            "Successfully installed mglearn-0.1.9\n"
          ]
        }
      ]
    },
    {
      "cell_type": "code",
      "source": [
        "import matplotlib.pyplot as plt"
      ],
      "metadata": {
        "id": "8EeRPlkfUhtN"
      },
      "execution_count": 11,
      "outputs": []
    },
    {
      "cell_type": "code",
      "source": [
        "import mglearn"
      ],
      "metadata": {
        "id": "S0oQIh9aUVzA"
      },
      "execution_count": 9,
      "outputs": []
    },
    {
      "cell_type": "code",
      "source": [
        "X, y= mglearn.datasets.make_wave(n_samples=60)\n",
        "plt.plot(X,y,'ko')"
      ],
      "metadata": {
        "colab": {
          "base_uri": "https://localhost:8080/",
          "height": 283
        },
        "id": "Td76v-TKTlXc",
        "outputId": "97f1ca1e-34e6-490d-a2fb-4a35e5e67208"
      },
      "execution_count": 13,
      "outputs": [
        {
          "output_type": "execute_result",
          "data": {
            "text/plain": [
              "[<matplotlib.lines.Line2D at 0x7fe9bae8a990>]"
            ]
          },
          "metadata": {},
          "execution_count": 13
        },
        {
          "output_type": "display_data",
          "data": {
            "text/plain": [
              "<Figure size 432x288 with 1 Axes>"
            ],
            "image/png": "[encoded data removed]"
          },
          "metadata": {
            "needs_background": "light"
          }
        }
      ]
    },
    {
      "cell_type": "code",
      "source": [
        "from sklearn.model_selection import train_test_split"
      ],
      "metadata": {
        "id": "q9jXOkm5VAf2"
      },
      "execution_count": 14,
      "outputs": []
    },
    {
      "cell_type": "code",
      "source": [
        "X_train, X_test, y_train, y_test = train_test_split(X,y,random_state=42)"
      ],
      "metadata": {
        "id": "yhi1J_7vVSlE"
      },
      "execution_count": 15,
      "outputs": []
    },
    {
      "cell_type": "code",
      "source": [
        "from sklearn.linear_model import LinearRegression"
      ],
      "metadata": {
        "id": "xUDCQsnnVkAW"
      },
      "execution_count": 16,
      "outputs": []
    },
    {
      "cell_type": "code",
      "source": [
        "lr= LinearRegression()\n",
        "lr.fit(X_train, y_train)"
      ],
      "metadata": {
        "colab": {
          "base_uri": "https://localhost:8080/"
        },
        "id": "hFn23ameVrZu",
        "outputId": "2d0d322b-b303-4dfa-d5fa-ba07baf6b6ea"
      },
      "execution_count": 17,
      "outputs": [
        {
          "output_type": "execute_result",
          "data": {
            "text/plain": [
              "LinearRegression()"
            ]
          },
          "metadata": {},
          "execution_count": 17
        }
      ]
    },
    {
      "cell_type": "code",
      "source": [
        "print(\"weight:\", lr.coef_)\n",
        "print(\"bias:\", lr.intercept_)"
      ],
      "metadata": {
        "colab": {
          "base_uri": "https://localhost:8080/"
        },
        "id": "BInCogiNV43i",
        "outputId": "7ed2d71a-0d68-4afa-941b-20d5845e13f8"
      },
      "execution_count": 18,
      "outputs": [
        {
          "output_type": "stream",
          "name": "stdout",
          "text": [
            "weight: [0.39390555]\n",
            "bias: -0.031804343026759746\n"
          ]
        }
      ]
    },
    {
      "cell_type": "code",
      "source": [
        "print(\"Train Accuracy: {:.2f}\".format(lr.score(X_train,y_train)))\n",
        "print(\"Test Accuracy: {:.2f}\".format(lr.score(X_test,y_test)))"
      ],
      "metadata": {
        "colab": {
          "base_uri": "https://localhost:8080/"
        },
        "id": "jFPmrQmEWOWI",
        "outputId": "1b5e1762-5486-4966-e2e5-d370f9f49356"
      },
      "execution_count": 19,
      "outputs": [
        {
          "output_type": "stream",
          "name": "stdout",
          "text": [
            "Train Accuracy: 0.67\n",
            "Test Accuracy: 0.66\n"
          ]
        }
      ]
    },
    {
      "cell_type": "code",
      "source": [
        "X.shape"
      ],
      "metadata": {
        "colab": {
          "base_uri": "https://localhost:8080/"
        },
        "id": "8uRb2JkeiB_N",
        "outputId": "dd79ddb2-ed52-4b2d-cc24-a540b9e86035"
      },
      "execution_count": 20,
      "outputs": [
        {
          "output_type": "execute_result",
          "data": {
            "text/plain": [
              "(60, 1)"
            ]
          },
          "metadata": {},
          "execution_count": 20
        }
      ]
    },
    {
      "cell_type": "code",
      "source": [
        "y.shape"
      ],
      "metadata": {
        "colab": {
          "base_uri": "https://localhost:8080/"
        },
        "id": "VftMYGDGiG00",
        "outputId": "7086c553-6ce8-4bed-d476-297cbe34c918"
      },
      "execution_count": 21,
      "outputs": [
        {
          "output_type": "execute_result",
          "data": {
            "text/plain": [
              "(60,)"
            ]
          },
          "metadata": {},
          "execution_count": 21
        }
      ]
    },
    {
      "cell_type": "code",
      "source": [
        "Feature=104\n",
        "Sample=506"
      ],
      "metadata": {
        "id": "VzFEsmpAiME3"
      },
      "execution_count": 22,
      "outputs": []
    },
    {
      "cell_type": "code",
      "source": [
        "X.shape"
      ],
      "metadata": {
        "colab": {
          "base_uri": "https://localhost:8080/"
        },
        "id": "I__nk11HihQq",
        "outputId": "2ccc0c6b-167a-4cb8-c62a-1618af1c4f4b"
      },
      "execution_count": 23,
      "outputs": [
        {
          "output_type": "execute_result",
          "data": {
            "text/plain": [
              "(60, 1)"
            ]
          },
          "metadata": {},
          "execution_count": 23
        }
      ]
    },
    {
      "cell_type": "code",
      "source": [
        "X_train, X_test, y_train, y_test = train_test_split(X,y,random_state=0)"
      ],
      "metadata": {
        "id": "JxAsazURijFU"
      },
      "execution_count": 24,
      "outputs": []
    },
    {
      "cell_type": "code",
      "source": [
        "lr=LinearRegression().fit(X_train,y_train)"
      ],
      "metadata": {
        "id": "-jZkTAdcisho"
      },
      "execution_count": 25,
      "outputs": []
    },
    {
      "cell_type": "code",
      "source": [
        "print(\"Train Accuracy: {:.2f}\".format(lr.score(X_train,y_train)))\n",
        "print(\"Test Accuracy: {:.2f}\".format(lr.score(X_test,y_test)))"
      ],
      "metadata": {
        "colab": {
          "base_uri": "https://localhost:8080/"
        },
        "id": "o8fPf2tyiz7U",
        "outputId": "7bff39b3-1477-4016-e321-b0c03298f23e"
      },
      "execution_count": 28,
      "outputs": [
        {
          "output_type": "stream",
          "name": "stdout",
          "text": [
            "Train Accuracy: 0.66\n",
            "Test Accuracy: 0.69\n"
          ]
        }
      ]
    },
    {
      "cell_type": "code",
      "source": [
        "from sklearn.linear_model import Ridge"
      ],
      "metadata": {
        "id": "LBUl8DaijZyB"
      },
      "execution_count": 33,
      "outputs": []
    },
    {
      "cell_type": "code",
      "source": [
        "ridge = Ridge().fit(X_train,y_train)"
      ],
      "metadata": {
        "id": "zZMWLkVkjyAn"
      },
      "execution_count": 34,
      "outputs": []
    },
    {
      "cell_type": "code",
      "source": [
        "print(\"Train Accuracy: {:.4f}\".format(ridge.score(X_train,y_train)))\n",
        "print(\"Test Accuracy: {:.4f}\".format(ridge.score(X_test,y_test)))"
      ],
      "metadata": {
        "colab": {
          "base_uri": "https://localhost:8080/"
        },
        "id": "J5M6IXdikL22",
        "outputId": "d6853300-1627-44d0-d617-9dcbcda86110"
      },
      "execution_count": 35,
      "outputs": [
        {
          "output_type": "stream",
          "name": "stdout",
          "text": [
            "Train Accuracy: 0.6592\n",
            "Test Accuracy: 0.6955\n"
          ]
        }
      ]
    },
    {
      "cell_type": "code",
      "source": [
        "print(\"Train Accuracy: {:.2f}\".format(lr.score(X_train,y_train)))\n",
        "print(\"Test Accuracy: {:.2f}\".format(lr.score(X_test,y_test)))"
      ],
      "metadata": {
        "colab": {
          "base_uri": "https://localhost:8080/"
        },
        "id": "RmvmVGCRkgOH",
        "outputId": "32f1881b-fe9b-4152-b6b7-44c28d69219e"
      },
      "execution_count": 36,
      "outputs": [
        {
          "output_type": "stream",
          "name": "stdout",
          "text": [
            "Train Accuracy: 0.66\n",
            "Test Accuracy: 0.69\n"
          ]
        }
      ]
    },
    {
      "cell_type": "code",
      "source": [
        "ridge = Ridge(alpha=0.1).fit(X_train,y_train)\n",
        "print(\"Train Accuracy: {:.4f}\".format(ridge.score(X_train,y_train)))\n",
        "print(\"Test Accuracy: {:.4f}\".format(ridge.score(X_test,y_test)))"
      ],
      "metadata": {
        "colab": {
          "base_uri": "https://localhost:8080/"
        },
        "id": "rf6PWuvqkjaW",
        "outputId": "67d60300-1eed-495f-8cf0-f2fa3933e714"
      },
      "execution_count": 37,
      "outputs": [
        {
          "output_type": "stream",
          "name": "stdout",
          "text": [
            "Train Accuracy: 0.6592\n",
            "Test Accuracy: 0.6935\n"
          ]
        }
      ]
    },
    {
      "cell_type": "code",
      "source": [
        "alpha=1.0"
      ],
      "metadata": {
        "id": "Nfs7Biemky6v"
      },
      "execution_count": 38,
      "outputs": []
    },
    {
      "cell_type": "code",
      "source": [
        "print(\"Train Accuracy: {:.4f}\".format(ridge.score(X_train,y_train)))\n",
        "print(\"Test Accuracy: {:.4f}\".format(ridge.score(X_test,y_test)))"
      ],
      "metadata": {
        "colab": {
          "base_uri": "https://localhost:8080/"
        },
        "id": "A9oiL1RAk4WF",
        "outputId": "b95486b8-1fec-4bab-d338-43dd45e90876"
      },
      "execution_count": 39,
      "outputs": [
        {
          "output_type": "stream",
          "name": "stdout",
          "text": [
            "Train Accuracy: 0.6592\n",
            "Test Accuracy: 0.6935\n"
          ]
        }
      ]
    },
    {
      "cell_type": "code",
      "source": [
        "import numpy as np"
      ],
      "metadata": {
        "id": "Ct3JzPL2lGdI"
      },
      "execution_count": 41,
      "outputs": []
    },
    {
      "cell_type": "code",
      "source": [
        "alpha=np.linspace(0,1,1000)"
      ],
      "metadata": {
        "id": "iZ-D7ts2k6oP"
      },
      "execution_count": 51,
      "outputs": []
    },
    {
      "cell_type": "code",
      "source": [
        "from matplotlib import test\n",
        "training_accuracy=[]\n",
        "test_accuracy=[]\n",
        "iteration=[]\n",
        "for i  in range(1000):\n",
        "  ridge =Ridge(alpha=alpha[i]).fit(X_train, y_train)\n",
        "  training_accuracy.append(ridge.score(X_train,y_train))\n",
        "  test_accuracy.append(ridge.score(X_test,y_test))\n",
        "  iteration.append(i)"
      ],
      "metadata": {
        "id": "70Gfwh8XlEbU"
      },
      "execution_count": 52,
      "outputs": []
    },
    {
      "cell_type": "code",
      "source": [
        "plt.plot(alpha, training_accuracy)\n",
        "plt.plot(alpha, test_accuracy)"
      ],
      "metadata": {
        "colab": {
          "base_uri": "https://localhost:8080/",
          "height": 283
        },
        "id": "_wqpc391myYn",
        "outputId": "1077e847-a024-451a-f959-95bf6f79371a"
      },
      "execution_count": 53,
      "outputs": [
        {
          "output_type": "execute_result",
          "data": {
            "text/plain": [
              "[<matplotlib.lines.Line2D at 0x7fe9b3eb3790>]"
            ]
          },
          "metadata": {},
          "execution_count": 53
        },
        {
          "output_type": "display_data",
          "data": {
            "text/plain": [
              "<Figure size 432x288 with 1 Axes>"
            ],
            "image/png": "[encoded data removed]"
          },
          "metadata": {
            "needs_background": "light"
          }
        }
      ]
    },
    {
      "cell_type": "code",
      "source": [
        "np.argmax(test_accuracy)"
      ],
      "metadata": {
        "colab": {
          "base_uri": "https://localhost:8080/"
        },
        "id": "IILoWP--nwqA",
        "outputId": "6a9dfc5b-6026-4372-989b-0808d35f949c"
      },
      "execution_count": 54,
      "outputs": [
        {
          "output_type": "execute_result",
          "data": {
            "text/plain": [
              "999"
            ]
          },
          "metadata": {},
          "execution_count": 54
        }
      ]
    },
    {
      "cell_type": "code",
      "source": [
        "alpha[184]"
      ],
      "metadata": {
        "colab": {
          "base_uri": "https://localhost:8080/"
        },
        "id": "qRFtg_1HoCiz",
        "outputId": "5204192d-763b-4044-cfab-1d1b462e5c24"
      },
      "execution_count": 55,
      "outputs": [
        {
          "output_type": "execute_result",
          "data": {
            "text/plain": [
              "0.1841841841841842"
            ]
          },
          "metadata": {},
          "execution_count": 55
        }
      ]
    },
    {
      "cell_type": "code",
      "source": [
        "plt.plot(alpha, training_accuracy, label='Training accuracy')\n",
        "plt.plot(alpha, test_accuracy, label='Test accuracy')\n",
        "plt.plot(alpha[184], test_accuracy[184],'ko')\n",
        "plt.xlabel('alpha')\n",
        "plt.ylabel('Score (R^2)')\n",
        "plt.legend()\n",
        "plt.show()"
      ],
      "metadata": {
        "colab": {
          "base_uri": "https://localhost:8080/",
          "height": 279
        },
        "id": "nVNWQIbeoF18",
        "outputId": "be968d0b-e09b-4341-9dae-baaddfad39a0"
      },
      "execution_count": 56,
      "outputs": [
        {
          "output_type": "display_data",
          "data": {
            "text/plain": [
              "<Figure size 432x288 with 1 Axes>"
            ],
            "image/png": "[encoded data removed]"
          },
          "metadata": {
            "needs_background": "light"
          }
        }
      ]
    },
    {
      "cell_type": "code",
      "source": [
        "mglearn.plots.plot_ridge_n_samples()"
      ],
      "metadata": {
        "colab": {
          "base_uri": "https://localhost:8080/",
          "height": 998
        },
        "id": "ONMhdiRqpNdb",
        "outputId": "35f93079-0d58-4f55-fadb-f9de2298ecbb"
      },
      "execution_count": 57,
      "outputs": [
        {
          "output_type": "stream",
          "name": "stderr",
          "text": [
            "/usr/local/lib/python3.7/dist-packages/sklearn/utils/deprecation.py:87: FutureWarning: Function load_boston is deprecated; `load_boston` is deprecated in 1.0 and will be removed in 1.2.\n",
            "\n",
            "    The Boston housing prices dataset has an ethical problem. You can refer to\n",
            "    the documentation of this function for further details.\n",
            "\n",
            "    The scikit-learn maintainers therefore strongly discourage the use of this\n",
            "    dataset unless the purpose of the code is to study and educate about\n",
            "    ethical issues in data science and machine learning.\n",
            "\n",
            "    In this special case, you can fetch the dataset from the original\n",
            "    source::\n",
            "\n",
            "        import pandas as pd\n",
            "        import numpy as np\n",
            "\n",
            "\n",
            "        data_url = \"http://lib.stat.cmu.edu/datasets/boston\"\n",
            "        raw_df = pd.read_csv(data_url, sep=\"\\s+\", skiprows=22, header=None)\n",
            "        data = np.hstack([raw_df.values[::2, :], raw_df.values[1::2, :2]])\n",
            "        target = raw_df.values[1::2, 2]\n",
            "\n",
            "    Alternative datasets include the California housing dataset (i.e.\n",
            "    :func:`~sklearn.datasets.fetch_california_housing`) and the Ames housing\n",
            "    dataset. You can load the datasets as follows::\n",
            "\n",
            "        from sklearn.datasets import fetch_california_housing\n",
            "        housing = fetch_california_housing()\n",
            "\n",
            "    for the California housing dataset and::\n",
            "\n",
            "        from sklearn.datasets import fetch_openml\n",
            "        housing = fetch_openml(name=\"house_prices\", as_frame=True)\n",
            "\n",
            "    for the Ames housing dataset.\n",
            "    \n",
            "  warnings.warn(msg, category=FutureWarning)\n"
          ]
        },
        {
          "output_type": "display_data",
          "data": {
            "text/plain": [
              "<Figure size 432x288 with 1 Axes>"
            ],
            "image/png": "[encoded data removed]"
          },
          "metadata": {
            "needs_background": "light"
          }
        }
      ]
    },
    {
      "cell_type": "code",
      "source": [
        "Ridge=10\n",
        "Ridge=1\n",
        "Ridge=0.1"
      ],
      "metadata": {
        "id": "v7eAfrvQsGbC"
      },
      "execution_count": 60,
      "outputs": []
    },
    {
      "cell_type": "code",
      "source": [
        "import pandas as pd"
      ],
      "metadata": {
        "id": "A6WHjcKqt-nQ"
      },
      "execution_count": 64,
      "outputs": []
    },
    {
      "cell_type": "code",
      "source": [
        "from pandas_profiling import ProfileReport"
      ],
      "metadata": {
        "id": "JZT0KpgDuEGt"
      },
      "execution_count": 65,
      "outputs": []
    },
    {
      "cell_type": "code",
      "source": [
        "from sklearn.model_selection import train_test_split"
      ],
      "metadata": {
        "id": "VLiYpLKyuNz9"
      },
      "execution_count": 67,
      "outputs": []
    },
    {
      "cell_type": "code",
      "source": [
        "from sklearn.linear_model import Ridge"
      ],
      "metadata": {
        "id": "zoQh6IkOukbk"
      },
      "execution_count": 71,
      "outputs": []
    },
    {
      "cell_type": "code",
      "source": [
        "from sklearn.linear_model import RidgeCV"
      ],
      "metadata": {
        "id": "ZuEhllIhuxhv"
      },
      "execution_count": 73,
      "outputs": []
    },
    {
      "cell_type": "code",
      "source": [
        "alpha=[10,1,0.1]"
      ],
      "metadata": {
        "id": "pF8SdNgJvKmf"
      },
      "execution_count": 75,
      "outputs": []
    },
    {
      "cell_type": "code",
      "source": [
        "from sklearn import linear_model as lm\n",
        "ordinaryLRmodel = lm.LinearRegression()\n",
        "ordinaryLRmodel.fit(X_train, y_train)"
      ],
      "metadata": {
        "colab": {
          "base_uri": "https://localhost:8080/"
        },
        "id": "i7xEH0Tuv2Xz",
        "outputId": "be571fc4-3c6e-4a9d-c919-b5b67118b7dd"
      },
      "execution_count": 77,
      "outputs": [
        {
          "output_type": "execute_result",
          "data": {
            "text/plain": [
              "LinearRegression()"
            ]
          },
          "metadata": {},
          "execution_count": 77
        }
      ]
    },
    {
      "cell_type": "code",
      "source": [
        "from sklearn import linear_model as lm\n",
        "ordinaryLRmodel = lm.LinearRegression()\n",
        "ordinaryLRmodel.fit(X_train, y_train)"
      ],
      "metadata": {
        "colab": {
          "base_uri": "https://localhost:8080/"
        },
        "id": "Sx45Ntuqv_-S",
        "outputId": "1401c2f2-5876-4fe7-b02c-e11c7ee33f67"
      },
      "execution_count": 79,
      "outputs": [
        {
          "output_type": "execute_result",
          "data": {
            "text/plain": [
              "LinearRegression()"
            ]
          },
          "metadata": {},
          "execution_count": 79
        }
      ]
    },
    {
      "cell_type": "code",
      "source": [
        "from mglearn.datasets import load_extended_boston"
      ],
      "metadata": {
        "id": "X9c2o6o6wb7_"
      },
      "execution_count": 81,
      "outputs": []
    },
    {
      "cell_type": "code",
      "source": [
        "ridge=Ridge().fit(X_train,y_train)"
      ],
      "metadata": {
        "id": "GTdme_Acw3be"
      },
      "execution_count": 84,
      "outputs": []
    },
    {
      "cell_type": "code",
      "source": [
        "ridge10=Ridge(alpha=10).fit(X_train,y_train)"
      ],
      "metadata": {
        "id": "kEObgENTxLpl"
      },
      "execution_count": 92,
      "outputs": []
    },
    {
      "cell_type": "code",
      "source": [
        "ridge1=Ridge(alpha=1).fit(X_train,y_train)"
      ],
      "metadata": {
        "id": "CJQxtXZlxcf6"
      },
      "execution_count": 88,
      "outputs": []
    },
    {
      "cell_type": "code",
      "source": [
        "ridge01=Ridge(alpha=0.1).fit(X_train,y_train)"
      ],
      "metadata": {
        "id": "Z5-WEW2Sxijv"
      },
      "execution_count": 93,
      "outputs": []
    },
    {
      "cell_type": "code",
      "source": [
        "plt.plot(ridge10.coef_,'ko',label='Ridge alpha=10')\n",
        "plt.plot(ridge1.coef_,'b*',label='Ridge alpha=1')\n",
        "plt.plot(ridge01.coef_,'gs',label='Ridge alpha=0.1')\n",
        "# plt.plot(lr.coef_,'rv', label='Linear Regression')\n",
        "plt.xlabel('i')\n",
        "plt.ylabel('W_i')\n",
        "plt.legend()\n",
        "plt.show()"
      ],
      "metadata": {
        "colab": {
          "base_uri": "https://localhost:8080/",
          "height": 279
        },
        "id": "97Yr1dfIparS",
        "outputId": "d142c91b-446e-4574-cc74-c27fd23884f9"
      },
      "execution_count": 94,
      "outputs": [
        {
          "output_type": "display_data",
          "data": {
            "text/plain": [
              "<Figure size 432x288 with 1 Axes>"
            ],
            "image/png": "[encoded data removed]"
          },
          "metadata": {
            "needs_background": "light"
          }
        }
      ]
    },
    {
      "cell_type": "code",
      "source": [
        "from sklearn.linear_model import Lasso"
      ],
      "metadata": {
        "id": "gOgVisPZrfA_"
      },
      "execution_count": 95,
      "outputs": []
    },
    {
      "cell_type": "code",
      "source": [
        "lasso=Lasso().fit(X_train,y_train)"
      ],
      "metadata": {
        "id": "TQcclODkx7sr"
      },
      "execution_count": 96,
      "outputs": []
    },
    {
      "cell_type": "code",
      "source": [
        "lasso = Lasso().fit(X_train,y_train)"
      ],
      "metadata": {
        "id": "SLfWJmGQyDbT"
      },
      "execution_count": 97,
      "outputs": []
    },
    {
      "cell_type": "code",
      "source": [
        "print('Training Accuracy:{:.2f}'.format(lasso.score(X_train,y_train)))\n",
        "print('Test Accuracy:{:.2f}'.format(lasso.score(X_test,y_test)))\n",
        "print('Number of features used:',np.sum(lasso.coef_ !=0))"
      ],
      "metadata": {
        "colab": {
          "base_uri": "https://localhost:8080/"
        },
        "id": "c64c5CDgyK2F",
        "outputId": "67cbff4d-5fdd-4d79-c541-1af0b75e2865"
      },
      "execution_count": 98,
      "outputs": [
        {
          "output_type": "stream",
          "name": "stdout",
          "text": [
            "Training Accuracy:0.30\n",
            "Test Accuracy:0.37\n",
            "Number of features used: 1\n"
          ]
        }
      ]
    },
    {
      "cell_type": "code",
      "source": [
        "lasso=Lasso(0.1).fit(X_train,y_train)\n",
        "print('Training Accuracy:{:.2f}'.format(lasso.score(X_train,y_train)))\n",
        "print('Test Accuracy:{:.2f}'.format(lasso.score(X_test,y_test)))\n",
        "print('Number of features used:',np.sum(lasso.coef_ !=0))"
      ],
      "metadata": {
        "colab": {
          "base_uri": "https://localhost:8080/"
        },
        "id": "-HfYgmdgyyxo",
        "outputId": "0ce379cc-b6df-4c91-e6d5-84e38457e9f6"
      },
      "execution_count": 99,
      "outputs": [
        {
          "output_type": "stream",
          "name": "stdout",
          "text": [
            "Training Accuracy:0.66\n",
            "Test Accuracy:0.71\n",
            "Number of features used: 1\n"
          ]
        }
      ]
    },
    {
      "cell_type": "code",
      "source": [
        "lasso=Lasso(alpha=0.01, max_iter=1000000).fit(X_train,y_train)\n",
        "\n",
        "print('Training Accuracy:{:.2f}'.format(lasso.score(X_train,y_train)))\n",
        "print('Test Accuracy:{:.2f}'.format(lasso.score(X_test,y_test)))\n",
        "print('Number of features used:',np.sum(lasso.coef_ !=0))"
      ],
      "metadata": {
        "colab": {
          "base_uri": "https://localhost:8080/"
        },
        "id": "O8FWjtiszMVW",
        "outputId": "99846d43-4a86-44ad-bca3-fd0619c130fd"
      },
      "execution_count": 100,
      "outputs": [
        {
          "output_type": "stream",
          "name": "stdout",
          "text": [
            "Training Accuracy:0.66\n",
            "Test Accuracy:0.70\n",
            "Number of features used: 1\n"
          ]
        }
      ]
    },
    {
      "cell_type": "code",
      "source": [
        "lasso=Lasso(alpha=0.0001, max_iter=1000000).fit(X_train,y_train)\n",
        "\n",
        "print('Training Accuracy:{:.2f}'.format(lasso.score(X_train,y_train)))\n",
        "print('Test Accuracy:{:.2f}'.format(lasso.score(X_test,y_test)))\n",
        "print('Number of features used:',np.sum(lasso.coef_ !=0))"
      ],
      "metadata": {
        "colab": {
          "base_uri": "https://localhost:8080/"
        },
        "id": "SYO6MMtzzXWN",
        "outputId": "51362627-6d20-4b33-9e8f-3d68a1ef52c8"
      },
      "execution_count": 101,
      "outputs": [
        {
          "output_type": "stream",
          "name": "stdout",
          "text": [
            "Training Accuracy:0.66\n",
            "Test Accuracy:0.69\n",
            "Number of features used: 1\n"
          ]
        }
      ]
    },
    {
      "cell_type": "code",
      "source": [
        "print(\"Train Accuracy: {:.4f}\".format(ridge.score(X_train,y_train)))\n",
        "print(\"Test Accuracy: {:.4f}\".format(ridge.score(X_test,y_test)))"
      ],
      "metadata": {
        "colab": {
          "base_uri": "https://localhost:8080/"
        },
        "id": "9CWmYL18zoTQ",
        "outputId": "f8838d0a-0445-4c23-ec99-e983b3458ea8"
      },
      "execution_count": 102,
      "outputs": [
        {
          "output_type": "stream",
          "name": "stdout",
          "text": [
            "Train Accuracy: 0.6592\n",
            "Test Accuracy: 0.6955\n"
          ]
        }
      ]
    },
    {
      "cell_type": "code",
      "source": [
        "print(\"Train Accuracy: {:.2f}\".format(ridge.score(X_train,y_train)))\n",
        "print(\"Test Accuracy: {:.2f}\".format(ridge.score(X_test,y_test)))"
      ],
      "metadata": {
        "colab": {
          "base_uri": "https://localhost:8080/"
        },
        "id": "J8GnIu06zpOo",
        "outputId": "74370e63-91e0-4fbb-b3c3-bb8c4ce7617a"
      },
      "execution_count": 103,
      "outputs": [
        {
          "output_type": "stream",
          "name": "stdout",
          "text": [
            "Train Accuracy: 0.66\n",
            "Test Accuracy: 0.70\n"
          ]
        }
      ]
    },
    {
      "cell_type": "code",
      "source": [
        "lasso=Lasso(alpha=1).fit(X_train,y_train)\n",
        "\n",
        "print('Training Accuracy:{:.2f}'.format(lasso.score(X_train,y_train)))\n",
        "print('Test Accuracy:{:.2f}'.format(lasso.score(X_test,y_test)))\n",
        "print('Number of features used:',np.sum(lasso.coef_ !=0))"
      ],
      "metadata": {
        "colab": {
          "base_uri": "https://localhost:8080/"
        },
        "id": "xciR-LVLzy8j",
        "outputId": "d2ee744c-3594-4886-9472-8c2c9a0b6014"
      },
      "execution_count": 104,
      "outputs": [
        {
          "output_type": "stream",
          "name": "stdout",
          "text": [
            "Training Accuracy:0.30\n",
            "Test Accuracy:0.37\n",
            "Number of features used: 1\n"
          ]
        }
      ]
    },
    {
      "cell_type": "code",
      "source": [
        "lasso=Lasso(alpha=0.01, max_iter=1000000).fit(X_train,y_train)\n",
        "\n",
        "print('Training Accuracy:{:.2f}'.format(lasso.score(X_train,y_train)))\n",
        "print('Test Accuracy:{:.2f}'.format(lasso.score(X_test,y_test)))\n",
        "print('Number of features used:',np.sum(lasso.coef_ !=0))"
      ],
      "metadata": {
        "colab": {
          "base_uri": "https://localhost:8080/"
        },
        "id": "xQyEmyVRz9Q4",
        "outputId": "d105055f-91fe-4ed4-8809-68fd262c8f46"
      },
      "execution_count": 105,
      "outputs": [
        {
          "output_type": "stream",
          "name": "stdout",
          "text": [
            "Training Accuracy:0.66\n",
            "Test Accuracy:0.70\n",
            "Number of features used: 1\n"
          ]
        }
      ]
    },
    {
      "cell_type": "code",
      "source": [
        "lasso=Lasso(alpha=0.0001, max_iter=1000000).fit(X_train,y_train)\n",
        "\n",
        "print('Training Accuracy:{:.2f}'.format(lasso.score(X_train,y_train)))\n",
        "print('Test Accuracy:{:.2f}'.format(lasso.score(X_test,y_test)))\n",
        "print('Number of features used:',np.sum(lasso.coef_ !=0))"
      ],
      "metadata": {
        "colab": {
          "base_uri": "https://localhost:8080/"
        },
        "id": "GHqzHj3F0BGB",
        "outputId": "d0b73c92-2030-43c7-94ad-b332fbb3de8e"
      },
      "execution_count": 106,
      "outputs": [
        {
          "output_type": "stream",
          "name": "stdout",
          "text": [
            "Training Accuracy:0.66\n",
            "Test Accuracy:0.69\n",
            "Number of features used: 1\n"
          ]
        }
      ]
    }
  ]
}